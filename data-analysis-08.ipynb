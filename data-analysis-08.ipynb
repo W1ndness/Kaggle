{
 "cells": [
  {
   "cell_type": "code",
   "execution_count": 1,
   "id": "595b22cc",
   "metadata": {
    "_cell_guid": "b1076dfc-b9ad-4769-8c92-a6c4dae69d19",
    "_uuid": "8f2839f25d086af736a60e9eeb907d3b93b6e0e5",
    "execution": {
     "iopub.execute_input": "2022-11-01T08:40:08.690846Z",
     "iopub.status.busy": "2022-11-01T08:40:08.690415Z",
     "iopub.status.idle": "2022-11-01T08:40:08.723081Z",
     "shell.execute_reply": "2022-11-01T08:40:08.722277Z"
    },
    "papermill": {
     "duration": 0.039049,
     "end_time": "2022-11-01T08:40:08.724770",
     "exception": false,
     "start_time": "2022-11-01T08:40:08.685721",
     "status": "completed"
    },
    "tags": []
   },
   "outputs": [
    {
     "name": "stdout",
     "output_type": "stream",
     "text": [
      "/kaggle/input/tourism-data/test/test.xlsx\n",
      "/kaggle/input/tourism-data/test/result1.csv\n",
      "/kaggle/input/tourism-data/train/2018-2019.xlsx\n",
      "/kaggle/input/tourism-data/train/2020-2021.xlsx\n"
     ]
    }
   ],
   "source": [
    "# This Python 3 environment comes with many helpful analytics libraries installed\n",
    "# It is defined by the kaggle/python Docker image: https://github.com/kaggle/docker-python\n",
    "# For example, here's several helpful packages to load\n",
    "\n",
    "import numpy as np # linear algebra\n",
    "import pandas as pd # data processing, CSV file I/O (e.g. pd.read_csv)\n",
    "\n",
    "# Input data files are available in the read-only \"../input/\" directory\n",
    "# For example, running this (by clicking run or pressing Shift+Enter) will list all files under the input directory\n",
    "\n",
    "import os\n",
    "for dirname, _, filenames in os.walk('/kaggle/input'):\n",
    "    for filename in filenames:\n",
    "        print(os.path.join(dirname, filename))\n",
    "\n",
    "# You can write up to 20GB to the current directory (/kaggle/working/) that gets preserved as output when you create a version using \"Save & Run All\" \n",
    "# You can also write temporary files to /kaggle/temp/, but they won't be saved outside of the current session"
   ]
  },
  {
   "cell_type": "code",
   "execution_count": 2,
   "id": "af7fa0a2",
   "metadata": {
    "execution": {
     "iopub.execute_input": "2022-11-01T08:40:08.731029Z",
     "iopub.status.busy": "2022-11-01T08:40:08.730559Z",
     "iopub.status.idle": "2022-11-01T08:40:10.154671Z",
     "shell.execute_reply": "2022-11-01T08:40:10.154041Z"
    },
    "papermill": {
     "duration": 1.429545,
     "end_time": "2022-11-01T08:40:10.156725",
     "exception": false,
     "start_time": "2022-11-01T08:40:08.727180",
     "status": "completed"
    },
    "tags": []
   },
   "outputs": [
    {
     "name": "stderr",
     "output_type": "stream",
     "text": [
      "/opt/conda/lib/python3.7/site-packages/past/types/oldstr.py:36: DeprecationWarning: invalid escape sequence \\d\n",
      "  \"\"\"\n",
      "/opt/conda/lib/python3.7/site-packages/past/builtins/misc.py:45: DeprecationWarning: the imp module is deprecated in favour of importlib; see the module's documentation for alternative uses\n",
      "  from imp import reload\n"
     ]
    }
   ],
   "source": [
    "from matplotlib import pyplot as plt\n",
    "import seaborn as sns\n",
    "import gensim\n",
    "import pyLDAvis\n",
    "import warnings\n",
    "import jieba\n",
    "%matplotlib inline\n",
    "warnings.filterwarnings('ignore')"
   ]
  },
  {
   "cell_type": "code",
   "execution_count": 3,
   "id": "bd0556ea",
   "metadata": {
    "execution": {
     "iopub.execute_input": "2022-11-01T08:40:10.163154Z",
     "iopub.status.busy": "2022-11-01T08:40:10.162410Z",
     "iopub.status.idle": "2022-11-01T08:40:12.309451Z",
     "shell.execute_reply": "2022-11-01T08:40:12.307903Z"
    },
    "papermill": {
     "duration": 2.152655,
     "end_time": "2022-11-01T08:40:12.311861",
     "exception": false,
     "start_time": "2022-11-01T08:40:10.159206",
     "status": "completed"
    },
    "tags": []
   },
   "outputs": [],
   "source": [
    "data1 = pd.read_excel('/kaggle/input/tourism-data/train/2018-2019.xlsx', sheet_name=4)\n",
    "data2 = pd.read_excel('/kaggle/input/tourism-data/train/2020-2021.xlsx', sheet_name=4)"
   ]
  },
  {
   "cell_type": "code",
   "execution_count": 4,
   "id": "48b63603",
   "metadata": {
    "execution": {
     "iopub.execute_input": "2022-11-01T08:40:12.318766Z",
     "iopub.status.busy": "2022-11-01T08:40:12.318406Z",
     "iopub.status.idle": "2022-11-01T08:40:12.337126Z",
     "shell.execute_reply": "2022-11-01T08:40:12.335636Z"
    },
    "papermill": {
     "duration": 0.024428,
     "end_time": "2022-11-01T08:40:12.338970",
     "exception": false,
     "start_time": "2022-11-01T08:40:12.314542",
     "status": "completed"
    },
    "tags": []
   },
   "outputs": [
    {
     "data": {
      "text/html": [
       "<div>\n",
       "<style scoped>\n",
       "    .dataframe tbody tr th:only-of-type {\n",
       "        vertical-align: middle;\n",
       "    }\n",
       "\n",
       "    .dataframe tbody tr th {\n",
       "        vertical-align: top;\n",
       "    }\n",
       "\n",
       "    .dataframe thead th {\n",
       "        text-align: right;\n",
       "    }\n",
       "</style>\n",
       "<table border=\"1\" class=\"dataframe\">\n",
       "  <thead>\n",
       "    <tr style=\"text-align: right;\">\n",
       "      <th></th>\n",
       "      <th>文章ID</th>\n",
       "      <th>公众号标题</th>\n",
       "      <th>发布时间</th>\n",
       "      <th>正文</th>\n",
       "    </tr>\n",
       "  </thead>\n",
       "  <tbody>\n",
       "    <tr>\n",
       "      <th>0</th>\n",
       "      <td>1001</td>\n",
       "      <td>2018，对自己好一点</td>\n",
       "      <td>2018-01-02 17:28</td>\n",
       "      <td>2017的旅程已经结束\\n2018的未来拉开了帷幕\\n新的一年里，请对自己好一点\\n一辈子很...</td>\n",
       "    </tr>\n",
       "    <tr>\n",
       "      <th>1</th>\n",
       "      <td>1002</td>\n",
       "      <td>春节机票预订有窍门</td>\n",
       "      <td>2018-01-02 17:28</td>\n",
       "      <td>距离春节还有一个多月的时间，在线旅游网站的春节机票销售火爆，部分航线甚至一票难求。在这里分享...</td>\n",
       "    </tr>\n",
       "    <tr>\n",
       "      <th>2</th>\n",
       "      <td>1003</td>\n",
       "      <td>冬日旅游知多D</td>\n",
       "      <td>2018-01-03 17:32</td>\n",
       "      <td>960万平方公里的祖国大地，四季都有独特美景\\n冬天的旅行也别有一番风味\\n但是冬季的严寒气...</td>\n",
       "    </tr>\n",
       "    <tr>\n",
       "      <th>3</th>\n",
       "      <td>1004</td>\n",
       "      <td>2018冬季暖心之旅</td>\n",
       "      <td>2018-01-03 17:32</td>\n",
       "      <td>长按二维码，关注我们\\n中心联系人：林小姐13709649096\\n刘小姐135000781...</td>\n",
       "    </tr>\n",
       "    <tr>\n",
       "      <th>4</th>\n",
       "      <td>1005</td>\n",
       "      <td>关于粤K27618号大客车排气管“喷火”事件的情况说明</td>\n",
       "      <td>2018-01-05 16:57</td>\n",
       "      <td></td>\n",
       "    </tr>\n",
       "  </tbody>\n",
       "</table>\n",
       "</div>"
      ],
      "text/plain": [
       "   文章ID                        公众号标题              发布时间  \\\n",
       "0  1001                  2018，对自己好一点  2018-01-02 17:28   \n",
       "1  1002                    春节机票预订有窍门  2018-01-02 17:28   \n",
       "2  1003                      冬日旅游知多D  2018-01-03 17:32   \n",
       "3  1004                   2018冬季暖心之旅  2018-01-03 17:32   \n",
       "4  1005  关于粤K27618号大客车排气管“喷火”事件的情况说明  2018-01-05 16:57   \n",
       "\n",
       "                                                  正文  \n",
       "0  2017的旅程已经结束\\n2018的未来拉开了帷幕\\n新的一年里，请对自己好一点\\n一辈子很...  \n",
       "1  距离春节还有一个多月的时间，在线旅游网站的春节机票销售火爆，部分航线甚至一票难求。在这里分享...  \n",
       "2  960万平方公里的祖国大地，四季都有独特美景\\n冬天的旅行也别有一番风味\\n但是冬季的严寒气...  \n",
       "3  长按二维码，关注我们\\n中心联系人：林小姐13709649096\\n刘小姐135000781...  \n",
       "4                                                     "
      ]
     },
     "execution_count": 4,
     "metadata": {},
     "output_type": "execute_result"
    }
   ],
   "source": [
    "data1.head()"
   ]
  },
  {
   "cell_type": "code",
   "execution_count": 5,
   "id": "7615df6f",
   "metadata": {
    "execution": {
     "iopub.execute_input": "2022-11-01T08:40:12.346033Z",
     "iopub.status.busy": "2022-11-01T08:40:12.345489Z",
     "iopub.status.idle": "2022-11-01T08:40:12.358344Z",
     "shell.execute_reply": "2022-11-01T08:40:12.357611Z"
    },
    "papermill": {
     "duration": 0.018321,
     "end_time": "2022-11-01T08:40:12.360069",
     "exception": false,
     "start_time": "2022-11-01T08:40:12.341748",
     "status": "completed"
    },
    "tags": []
   },
   "outputs": [
    {
     "data": {
      "text/html": [
       "<div>\n",
       "<style scoped>\n",
       "    .dataframe tbody tr th:only-of-type {\n",
       "        vertical-align: middle;\n",
       "    }\n",
       "\n",
       "    .dataframe tbody tr th {\n",
       "        vertical-align: top;\n",
       "    }\n",
       "\n",
       "    .dataframe thead th {\n",
       "        text-align: right;\n",
       "    }\n",
       "</style>\n",
       "<table border=\"1\" class=\"dataframe\">\n",
       "  <thead>\n",
       "    <tr style=\"text-align: right;\">\n",
       "      <th></th>\n",
       "      <th>文章ID</th>\n",
       "      <th>公众号标题</th>\n",
       "      <th>发布时间</th>\n",
       "      <th>正文</th>\n",
       "    </tr>\n",
       "  </thead>\n",
       "  <tbody>\n",
       "    <tr>\n",
       "      <th>0</th>\n",
       "      <td>1622</td>\n",
       "      <td>元旦晚8点，茂名海鲜亮相央视！一定要看！</td>\n",
       "      <td>2020-01-01 19:22</td>\n",
       "      <td>新年伊始，你的打开方式是怎样的呢？是准备去享受一顿丰盛的大餐？还是将“世界那么大，我想去看看...</td>\n",
       "    </tr>\n",
       "    <tr>\n",
       "      <th>1</th>\n",
       "      <td>1623</td>\n",
       "      <td>建好省级全域旅游示范区，打造沿海经济带新增长极 茂名市电白区旅游协会举行第二届第二次全体会议</td>\n",
       "      <td>2020-01-05 02:10</td>\n",
       "      <td>会员报到\\n\\n会场\\n\\n        为了更好地贯彻落实区委区政府和区文广旅体局建设全...</td>\n",
       "    </tr>\n",
       "    <tr>\n",
       "      <th>2</th>\n",
       "      <td>1624</td>\n",
       "      <td>【茂名交投旅游】@茂名人，信宜旅游景点上新啦~</td>\n",
       "      <td>2020-01-06 17:27</td>\n",
       "      <td>好消息！好消息！\\n\\n\\n信宜莲花湖庄园\\n\\n开业啦~~~\\n庄园简介\\n\\n\\n\\n\\...</td>\n",
       "    </tr>\n",
       "    <tr>\n",
       "      <th>3</th>\n",
       "      <td>1625</td>\n",
       "      <td>【茂名交投旅游】2020，打卡鼎龙湾新玩法！</td>\n",
       "      <td>2020-01-06 17:27</td>\n",
       "      <td>2020.首波惊喜狂潮\\n鼎龙湾·德萨斯牛仔小镇全面升级\\n1月11日\\n牛仔主题嘉年华街区...</td>\n",
       "    </tr>\n",
       "    <tr>\n",
       "      <th>4</th>\n",
       "      <td>1626</td>\n",
       "      <td>茂名 | 串珠成链，建滨海旅游目的地</td>\n",
       "      <td>2020-01-08 21:35</td>\n",
       "      <td>地处粤港澳大湾区、北部湾城市群、海南自贸区三大国家战略交汇处的茂名，紧紧抓住沿海经济带与大湾...</td>\n",
       "    </tr>\n",
       "  </tbody>\n",
       "</table>\n",
       "</div>"
      ],
      "text/plain": [
       "   文章ID                                           公众号标题              发布时间  \\\n",
       "0  1622                            元旦晚8点，茂名海鲜亮相央视！一定要看！  2020-01-01 19:22   \n",
       "1  1623  建好省级全域旅游示范区，打造沿海经济带新增长极 茂名市电白区旅游协会举行第二届第二次全体会议  2020-01-05 02:10   \n",
       "2  1624                         【茂名交投旅游】@茂名人，信宜旅游景点上新啦~  2020-01-06 17:27   \n",
       "3  1625                          【茂名交投旅游】2020，打卡鼎龙湾新玩法！  2020-01-06 17:27   \n",
       "4  1626                              茂名 | 串珠成链，建滨海旅游目的地  2020-01-08 21:35   \n",
       "\n",
       "                                                  正文  \n",
       "0  新年伊始，你的打开方式是怎样的呢？是准备去享受一顿丰盛的大餐？还是将“世界那么大，我想去看看...  \n",
       "1  会员报到\\n\\n会场\\n\\n        为了更好地贯彻落实区委区政府和区文广旅体局建设全...  \n",
       "2  好消息！好消息！\\n\\n\\n信宜莲花湖庄园\\n\\n开业啦~~~\\n庄园简介\\n\\n\\n\\n\\...  \n",
       "3  2020.首波惊喜狂潮\\n鼎龙湾·德萨斯牛仔小镇全面升级\\n1月11日\\n牛仔主题嘉年华街区...  \n",
       "4  地处粤港澳大湾区、北部湾城市群、海南自贸区三大国家战略交汇处的茂名，紧紧抓住沿海经济带与大湾...  "
      ]
     },
     "execution_count": 5,
     "metadata": {},
     "output_type": "execute_result"
    }
   ],
   "source": [
    "data2.head()"
   ]
  },
  {
   "cell_type": "code",
   "execution_count": 6,
   "id": "bc2eb5f3",
   "metadata": {
    "execution": {
     "iopub.execute_input": "2022-11-01T08:40:12.367857Z",
     "iopub.status.busy": "2022-11-01T08:40:12.366742Z",
     "iopub.status.idle": "2022-11-01T08:40:12.373203Z",
     "shell.execute_reply": "2022-11-01T08:40:12.371626Z"
    },
    "papermill": {
     "duration": 0.012782,
     "end_time": "2022-11-01T08:40:12.375792",
     "exception": false,
     "start_time": "2022-11-01T08:40:12.363010",
     "status": "completed"
    },
    "tags": []
   },
   "outputs": [],
   "source": [
    "columns = ['ID', 'Title', 'Date', 'Content']\n",
    "data1.columns = columns\n",
    "data2.columns = columns"
   ]
  },
  {
   "cell_type": "code",
   "execution_count": 7,
   "id": "aea4dccd",
   "metadata": {
    "execution": {
     "iopub.execute_input": "2022-11-01T08:40:12.383963Z",
     "iopub.status.busy": "2022-11-01T08:40:12.383698Z",
     "iopub.status.idle": "2022-11-01T08:40:12.430074Z",
     "shell.execute_reply": "2022-11-01T08:40:12.429256Z"
    },
    "papermill": {
     "duration": 0.054146,
     "end_time": "2022-11-01T08:40:12.433079",
     "exception": false,
     "start_time": "2022-11-01T08:40:12.378933",
     "status": "completed"
    },
    "tags": []
   },
   "outputs": [
    {
     "data": {
      "text/html": [
       "<div>\n",
       "<style scoped>\n",
       "    .dataframe tbody tr th:only-of-type {\n",
       "        vertical-align: middle;\n",
       "    }\n",
       "\n",
       "    .dataframe tbody tr th {\n",
       "        vertical-align: top;\n",
       "    }\n",
       "\n",
       "    .dataframe thead th {\n",
       "        text-align: right;\n",
       "    }\n",
       "</style>\n",
       "<table border=\"1\" class=\"dataframe\">\n",
       "  <thead>\n",
       "    <tr style=\"text-align: right;\">\n",
       "      <th></th>\n",
       "      <th>ID</th>\n",
       "      <th>Date</th>\n",
       "      <th>Content</th>\n",
       "    </tr>\n",
       "  </thead>\n",
       "  <tbody>\n",
       "    <tr>\n",
       "      <th>0</th>\n",
       "      <td>1001</td>\n",
       "      <td>2018-01-02 17:28:00</td>\n",
       "      <td>2018，对自己好一点\\n2017的旅程已经结束\\n2018的未来拉开了帷幕\\n新的一年里，...</td>\n",
       "    </tr>\n",
       "    <tr>\n",
       "      <th>1</th>\n",
       "      <td>1002</td>\n",
       "      <td>2018-01-02 17:28:00</td>\n",
       "      <td>春节机票预订有窍门\\n距离春节还有一个多月的时间，在线旅游网站的春节机票销售火爆，部分航线甚...</td>\n",
       "    </tr>\n",
       "    <tr>\n",
       "      <th>2</th>\n",
       "      <td>1003</td>\n",
       "      <td>2018-01-03 17:32:00</td>\n",
       "      <td>冬日旅游知多D\\n960万平方公里的祖国大地，四季都有独特美景\\n冬天的旅行也别有一番风味\\...</td>\n",
       "    </tr>\n",
       "    <tr>\n",
       "      <th>3</th>\n",
       "      <td>1004</td>\n",
       "      <td>2018-01-03 17:32:00</td>\n",
       "      <td>2018冬季暖心之旅\\n长按二维码，关注我们\\n中心联系人：林小姐13709649096\\n...</td>\n",
       "    </tr>\n",
       "    <tr>\n",
       "      <th>4</th>\n",
       "      <td>1005</td>\n",
       "      <td>2018-01-05 16:57:00</td>\n",
       "      <td>关于粤K27618号大客车排气管“喷火”事件的情况说明\\n                 ...</td>\n",
       "    </tr>\n",
       "  </tbody>\n",
       "</table>\n",
       "</div>"
      ],
      "text/plain": [
       "     ID                Date                                            Content\n",
       "0  1001 2018-01-02 17:28:00  2018，对自己好一点\\n2017的旅程已经结束\\n2018的未来拉开了帷幕\\n新的一年里，...\n",
       "1  1002 2018-01-02 17:28:00  春节机票预订有窍门\\n距离春节还有一个多月的时间，在线旅游网站的春节机票销售火爆，部分航线甚...\n",
       "2  1003 2018-01-03 17:32:00  冬日旅游知多D\\n960万平方公里的祖国大地，四季都有独特美景\\n冬天的旅行也别有一番风味\\...\n",
       "3  1004 2018-01-03 17:32:00  2018冬季暖心之旅\\n长按二维码，关注我们\\n中心联系人：林小姐13709649096\\n...\n",
       "4  1005 2018-01-05 16:57:00  关于粤K27618号大客车排气管“喷火”事件的情况说明\\n                 ..."
      ]
     },
     "execution_count": 7,
     "metadata": {},
     "output_type": "execute_result"
    }
   ],
   "source": [
    "data = pd.concat([data1, data2], ignore_index=True)\n",
    "data['Content'] = data['Title'] + '\\n' + data['Content']\n",
    "data['Date'] = pd.to_datetime(data['Date'])\n",
    "data.drop(columns=['Title'], inplace=True)\n",
    "data.head()"
   ]
  },
  {
   "cell_type": "code",
   "execution_count": null,
   "id": "1f8fa899",
   "metadata": {
    "papermill": {
     "duration": 0.002822,
     "end_time": "2022-11-01T08:40:12.439391",
     "exception": false,
     "start_time": "2022-11-01T08:40:12.436569",
     "status": "completed"
    },
    "tags": []
   },
   "outputs": [],
   "source": []
  }
 ],
 "metadata": {
  "kernelspec": {
   "display_name": "Python 3",
   "language": "python",
   "name": "python3"
  },
  "language_info": {
   "codemirror_mode": {
    "name": "ipython",
    "version": 3
   },
   "file_extension": ".py",
   "mimetype": "text/x-python",
   "name": "python",
   "nbconvert_exporter": "python",
   "pygments_lexer": "ipython3",
   "version": "3.7.12"
  },
  "papermill": {
   "default_parameters": {},
   "duration": 11.206367,
   "end_time": "2022-11-01T08:40:13.265839",
   "environment_variables": {},
   "exception": null,
   "input_path": "__notebook__.ipynb",
   "output_path": "__notebook__.ipynb",
   "parameters": {},
   "start_time": "2022-11-01T08:40:02.059472",
   "version": "2.3.4"
  }
 },
 "nbformat": 4,
 "nbformat_minor": 5
}
